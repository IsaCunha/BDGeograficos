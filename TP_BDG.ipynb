{
  "cells": [
    {
      "cell_type": "code",
      "execution_count": 2,
      "metadata": {
        "id": "FtkWOOyCuJzQ"
      },
      "outputs": [],
      "source": [
        "import pandas as pd\n",
        "import geopandas\n",
        "import matplotlib.pyplot as plt"
      ]
    },
    {
      "cell_type": "markdown",
      "metadata": {
        "id": "GlHolKYF__8x"
      },
      "source": [
        "## Dados Geográficos dos Municípios"
      ]
    },
    {
      "cell_type": "markdown",
      "metadata": {
        "id": "b_Nub-3LDWvc"
      },
      "source": [
        "Fonte: https://www.ibge.gov.br/geociencias/organizacao-do-territorio/malhas-territoriais/15774-malhas.html"
      ]
    },
    {
      "cell_type": "code",
      "execution_count": 4,
      "metadata": {
        "colab": {
          "base_uri": "https://localhost:8080/",
          "height": 478
        },
        "id": "uxEGVSUAzHGR",
        "outputId": "d3f7783e-9dff-4821-9d6c-b8dd6bfcb610"
      },
      "outputs": [
        {
          "ename": "DataSourceError",
          "evalue": "/content/SC_MUNICIPIOS_2023/SC_Municipios_2023.dbf: No such file or directory",
          "output_type": "error",
          "traceback": [
            "\u001b[0;31m---------------------------------------------------------------------------\u001b[0m",
            "\u001b[0;31mDataSourceError\u001b[0m                           Traceback (most recent call last)",
            "\u001b[0;32m<ipython-input-4-71fa0c831cc5>\u001b[0m in \u001b[0;36m<cell line: 2>\u001b[0;34m()\u001b[0m\n\u001b[1;32m      1\u001b[0m \u001b[0;31m# Dados geograficos dos municipios\u001b[0m\u001b[0;34m\u001b[0m\u001b[0;34m\u001b[0m\u001b[0m\n\u001b[0;32m----> 2\u001b[0;31m \u001b[0mdf_municipios_geo\u001b[0m \u001b[0;34m=\u001b[0m \u001b[0mgeopandas\u001b[0m\u001b[0;34m.\u001b[0m\u001b[0mread_file\u001b[0m\u001b[0;34m(\u001b[0m\u001b[0;34m\"/content/SC_MUNICIPIOS_2023/SC_Municipios_2023.dbf\"\u001b[0m\u001b[0;34m)\u001b[0m\u001b[0;34m\u001b[0m\u001b[0;34m\u001b[0m\u001b[0m\n\u001b[0m",
            "\u001b[0;32m/usr/local/lib/python3.10/dist-packages/geopandas/io/file.py\u001b[0m in \u001b[0;36m_read_file\u001b[0;34m(filename, bbox, mask, columns, rows, engine, **kwargs)\u001b[0m\n\u001b[1;32m    292\u001b[0m \u001b[0;34m\u001b[0m\u001b[0m\n\u001b[1;32m    293\u001b[0m     \u001b[0;32mif\u001b[0m \u001b[0mengine\u001b[0m \u001b[0;34m==\u001b[0m \u001b[0;34m\"pyogrio\"\u001b[0m\u001b[0;34m:\u001b[0m\u001b[0;34m\u001b[0m\u001b[0;34m\u001b[0m\u001b[0m\n\u001b[0;32m--> 294\u001b[0;31m         return _read_file_pyogrio(\n\u001b[0m\u001b[1;32m    295\u001b[0m             \u001b[0mfilename\u001b[0m\u001b[0;34m,\u001b[0m \u001b[0mbbox\u001b[0m\u001b[0;34m=\u001b[0m\u001b[0mbbox\u001b[0m\u001b[0;34m,\u001b[0m \u001b[0mmask\u001b[0m\u001b[0;34m=\u001b[0m\u001b[0mmask\u001b[0m\u001b[0;34m,\u001b[0m \u001b[0mcolumns\u001b[0m\u001b[0;34m=\u001b[0m\u001b[0mcolumns\u001b[0m\u001b[0;34m,\u001b[0m \u001b[0mrows\u001b[0m\u001b[0;34m=\u001b[0m\u001b[0mrows\u001b[0m\u001b[0;34m,\u001b[0m \u001b[0;34m**\u001b[0m\u001b[0mkwargs\u001b[0m\u001b[0;34m\u001b[0m\u001b[0;34m\u001b[0m\u001b[0m\n\u001b[1;32m    296\u001b[0m         )\n",
            "\u001b[0;32m/usr/local/lib/python3.10/dist-packages/geopandas/io/file.py\u001b[0m in \u001b[0;36m_read_file_pyogrio\u001b[0;34m(path_or_bytes, bbox, mask, rows, **kwargs)\u001b[0m\n\u001b[1;32m    545\u001b[0m         \u001b[0mkwargs\u001b[0m\u001b[0;34m[\u001b[0m\u001b[0;34m\"columns\"\u001b[0m\u001b[0;34m]\u001b[0m \u001b[0;34m=\u001b[0m \u001b[0mkwargs\u001b[0m\u001b[0;34m.\u001b[0m\u001b[0mpop\u001b[0m\u001b[0;34m(\u001b[0m\u001b[0;34m\"include_fields\"\u001b[0m\u001b[0;34m)\u001b[0m\u001b[0;34m\u001b[0m\u001b[0;34m\u001b[0m\u001b[0m\n\u001b[1;32m    546\u001b[0m \u001b[0;34m\u001b[0m\u001b[0m\n\u001b[0;32m--> 547\u001b[0;31m     \u001b[0;32mreturn\u001b[0m \u001b[0mpyogrio\u001b[0m\u001b[0;34m.\u001b[0m\u001b[0mread_dataframe\u001b[0m\u001b[0;34m(\u001b[0m\u001b[0mpath_or_bytes\u001b[0m\u001b[0;34m,\u001b[0m \u001b[0mbbox\u001b[0m\u001b[0;34m=\u001b[0m\u001b[0mbbox\u001b[0m\u001b[0;34m,\u001b[0m \u001b[0;34m**\u001b[0m\u001b[0mkwargs\u001b[0m\u001b[0;34m)\u001b[0m\u001b[0;34m\u001b[0m\u001b[0;34m\u001b[0m\u001b[0m\n\u001b[0m\u001b[1;32m    548\u001b[0m \u001b[0;34m\u001b[0m\u001b[0m\n\u001b[1;32m    549\u001b[0m \u001b[0;34m\u001b[0m\u001b[0m\n",
            "\u001b[0;32m/usr/local/lib/python3.10/dist-packages/pyogrio/geopandas.py\u001b[0m in \u001b[0;36mread_dataframe\u001b[0;34m(path_or_buffer, layer, encoding, columns, read_geometry, force_2d, skip_features, max_features, where, bbox, mask, fids, sql, sql_dialect, fid_as_index, use_arrow, on_invalid, arrow_to_pandas_kwargs, **kwargs)\u001b[0m\n\u001b[1;32m    263\u001b[0m         \u001b[0;31m# as numpy does not directly support timezones.\u001b[0m\u001b[0;34m\u001b[0m\u001b[0;34m\u001b[0m\u001b[0m\n\u001b[1;32m    264\u001b[0m         \u001b[0mkwargs\u001b[0m\u001b[0;34m[\u001b[0m\u001b[0;34m\"datetime_as_string\"\u001b[0m\u001b[0;34m]\u001b[0m \u001b[0;34m=\u001b[0m \u001b[0;32mTrue\u001b[0m\u001b[0;34m\u001b[0m\u001b[0;34m\u001b[0m\u001b[0m\n\u001b[0;32m--> 265\u001b[0;31m     result = read_func(\n\u001b[0m\u001b[1;32m    266\u001b[0m         \u001b[0mpath_or_buffer\u001b[0m\u001b[0;34m,\u001b[0m\u001b[0;34m\u001b[0m\u001b[0;34m\u001b[0m\u001b[0m\n\u001b[1;32m    267\u001b[0m         \u001b[0mlayer\u001b[0m\u001b[0;34m=\u001b[0m\u001b[0mlayer\u001b[0m\u001b[0;34m,\u001b[0m\u001b[0;34m\u001b[0m\u001b[0;34m\u001b[0m\u001b[0m\n",
            "\u001b[0;32m/usr/local/lib/python3.10/dist-packages/pyogrio/raw.py\u001b[0m in \u001b[0;36mread\u001b[0;34m(path_or_buffer, layer, encoding, columns, read_geometry, force_2d, skip_features, max_features, where, bbox, mask, fids, sql, sql_dialect, return_fids, datetime_as_string, **kwargs)\u001b[0m\n\u001b[1;32m    196\u001b[0m     \u001b[0mdataset_kwargs\u001b[0m \u001b[0;34m=\u001b[0m \u001b[0m_preprocess_options_key_value\u001b[0m\u001b[0;34m(\u001b[0m\u001b[0mkwargs\u001b[0m\u001b[0;34m)\u001b[0m \u001b[0;32mif\u001b[0m \u001b[0mkwargs\u001b[0m \u001b[0;32melse\u001b[0m \u001b[0;34m{\u001b[0m\u001b[0;34m}\u001b[0m\u001b[0;34m\u001b[0m\u001b[0;34m\u001b[0m\u001b[0m\n\u001b[1;32m    197\u001b[0m \u001b[0;34m\u001b[0m\u001b[0m\n\u001b[0;32m--> 198\u001b[0;31m     return ogr_read(\n\u001b[0m\u001b[1;32m    199\u001b[0m         \u001b[0mget_vsi_path_or_buffer\u001b[0m\u001b[0;34m(\u001b[0m\u001b[0mpath_or_buffer\u001b[0m\u001b[0;34m)\u001b[0m\u001b[0;34m,\u001b[0m\u001b[0;34m\u001b[0m\u001b[0;34m\u001b[0m\u001b[0m\n\u001b[1;32m    200\u001b[0m         \u001b[0mlayer\u001b[0m\u001b[0;34m=\u001b[0m\u001b[0mlayer\u001b[0m\u001b[0;34m,\u001b[0m\u001b[0;34m\u001b[0m\u001b[0;34m\u001b[0m\u001b[0m\n",
            "\u001b[0;32mpyogrio/_io.pyx\u001b[0m in \u001b[0;36mpyogrio._io.ogr_read\u001b[0;34m()\u001b[0m\n",
            "\u001b[0;32mpyogrio/_io.pyx\u001b[0m in \u001b[0;36mpyogrio._io.ogr_open\u001b[0;34m()\u001b[0m\n",
            "\u001b[0;31mDataSourceError\u001b[0m: /content/SC_MUNICIPIOS_2023/SC_Municipios_2023.dbf: No such file or directory"
          ]
        }
      ],
      "source": [
        "# Dados geograficos dos municipios\n",
        "df_municipios_geo = geopandas.read_file(\"/content/SC_MUNICIPIOS_2023/SC_Municipios_2023.dbf\")"
      ]
    },
    {
      "cell_type": "code",
      "execution_count": 2,
      "metadata": {
        "colab": {
          "base_uri": "https://localhost:8080/",
          "height": 141
        },
        "id": "-f5f85Su-A-M",
        "outputId": "aa88feca-6c09-41ac-f174-fa269f91e857"
      },
      "outputs": [
        {
          "ename": "NameError",
          "evalue": "name 'df_municipios_geo' is not defined",
          "output_type": "error",
          "traceback": [
            "\u001b[0;31m---------------------------------------------------------------------------\u001b[0m",
            "\u001b[0;31mNameError\u001b[0m                                 Traceback (most recent call last)",
            "\u001b[0;32m<ipython-input-2-1868647ff2af>\u001b[0m in \u001b[0;36m<cell line: 1>\u001b[0;34m()\u001b[0m\n\u001b[0;32m----> 1\u001b[0;31m \u001b[0mdf_municipios_geo\u001b[0m\u001b[0;34m.\u001b[0m\u001b[0minfo\u001b[0m\u001b[0;34m(\u001b[0m\u001b[0;34m)\u001b[0m\u001b[0;34m\u001b[0m\u001b[0;34m\u001b[0m\u001b[0m\n\u001b[0m",
            "\u001b[0;31mNameError\u001b[0m: name 'df_municipios_geo' is not defined"
          ]
        }
      ],
      "source": [
        "df_municipios_geo.info()\n"
      ]
    },
    {
      "cell_type": "code",
      "execution_count": null,
      "metadata": {
        "colab": {
          "background_save": true
        },
        "id": "1gfVsLCCAG-r"
      },
      "outputs": [],
      "source": [
        "df_municipios_geo.head()"
      ]
    },
    {
      "cell_type": "code",
      "execution_count": null,
      "metadata": {
        "colab": {
          "background_save": true
        },
        "id": "j7HYuccV_ohg"
      },
      "outputs": [],
      "source": [
        "mapa = geopandas.read_file(\"/content/SC_MUNICIPIOS_2023/SC_Municipios_2023.shp\")"
      ]
    },
    {
      "cell_type": "code",
      "execution_count": null,
      "metadata": {
        "colab": {
          "background_save": true
        },
        "id": "nbmDjLfC_uDw"
      },
      "outputs": [],
      "source": [
        "mapa.plot()\n",
        "plt.show()"
      ]
    },
    {
      "cell_type": "markdown",
      "metadata": {
        "id": "tLlhsyf9AKA3"
      },
      "source": [
        "## Dados da votação - TSE"
      ]
    },
    {
      "cell_type": "markdown",
      "metadata": {
        "id": "uUudJp2UDKiu"
      },
      "source": [
        "Fonte:\n",
        "https://dadosabertos.tse.jus.br/dataset/resultados-2022/resource/ff3e660a-6387-4632-97f7-9b60a477751a"
      ]
    },
    {
      "cell_type": "code",
      "execution_count": null,
      "metadata": {
        "colab": {
          "background_save": true
        },
        "id": "3hSVsjNN5a2y"
      },
      "outputs": [],
      "source": [
        "# Dados dos votos\n",
        "df_votos = pd.read_csv(\"/content/votacao_secao_2022_SC.csv\", encoding=\"latin1\", delimiter=\";\")"
      ]
    },
    {
      "cell_type": "code",
      "execution_count": null,
      "metadata": {
        "colab": {
          "background_save": true
        },
        "id": "SUWpkxgw5-Sv"
      },
      "outputs": [],
      "source": [
        "df_votos.info()"
      ]
    },
    {
      "cell_type": "code",
      "execution_count": null,
      "metadata": {
        "colab": {
          "background_save": true
        },
        "id": "w73CvQ3mAP0t"
      },
      "outputs": [],
      "source": [
        "df_votos.head()"
      ]
    },
    {
      "cell_type": "code",
      "execution_count": null,
      "metadata": {
        "colab": {
          "background_save": true
        },
        "id": "UDnj2nx6SS90"
      },
      "outputs": [],
      "source": [
        "# Filtrar apenas votos para deputado federal\n",
        "df_deputado_federal = df_votos[df_votos[\"DS_CARGO\"] == \"DEPUTADO FEDERAL\"]\n",
        "\n",
        "# Agregar os votos por município\n",
        "aggregated = df_deputado_federal.groupby([\"NM_MUNICIPIO\"], as_index=False)[\"QT_VOTOS\"].sum()\n",
        "\n",
        "# Normalizar os nomes dos municípios\n",
        "mapa[\"NM_MUNICIPIO\"] = mapa[\"NM_MUN\"].str.upper()\n",
        "aggregated[\"NM_MUNICIPIO\"] = aggregated[\"NM_MUNICIPIO\"].str.upper()\n",
        "\n",
        "result = mapa.merge(aggregated, on=\"NM_MUNICIPIO\", how=\"left\")\n",
        "\n",
        "# Foi necessário preencher os municípios sem votos com 0 para fazer a devida agregação\n",
        "result[\"QT_VOTOS\"] = result[\"QT_VOTOS\"].fillna(0)\n",
        "\n",
        "result.plot(column=\"QT_VOTOS\", cmap=\"Blues\", legend=True)\n",
        "plt.title(\"Votos para Deputado Federal por Município - SC\")\n",
        "plt.show()"
      ]
    },
    {
      "cell_type": "markdown",
      "metadata": {
        "id": "TnCsZOb2-loK"
      },
      "source": [
        "## Dados do censo"
      ]
    },
    {
      "cell_type": "markdown",
      "metadata": {
        "id": "GnSsY3fTEHCl"
      },
      "source": [
        "Fonte:"
      ]
    },
    {
      "cell_type": "code",
      "execution_count": null,
      "metadata": {
        "colab": {
          "background_save": true
        },
        "id": "zoday4ol6C5j"
      },
      "outputs": [],
      "source": [
        "# dados ja tratados\n",
        "dist_pop = pd.read_csv(\"/content/dados/distribuicao_populacao.csv\")"
      ]
    },
    {
      "cell_type": "code",
      "execution_count": null,
      "metadata": {
        "colab": {
          "background_save": true
        },
        "id": "RLf4eJ_z-Jf7"
      },
      "outputs": [],
      "source": [
        "dist_pop.head()"
      ]
    },
    {
      "cell_type": "code",
      "execution_count": null,
      "metadata": {
        "colab": {
          "background_save": true
        },
        "id": "Q9ncH422-Pi2"
      },
      "outputs": [],
      "source": [
        "pib_municipios = pd.read_csv(\"/content/dados/pib_municipios.csv\")"
      ]
    },
    {
      "cell_type": "code",
      "execution_count": null,
      "metadata": {
        "colab": {
          "background_save": true
        },
        "id": "clClVrKu-Tfd"
      },
      "outputs": [],
      "source": [
        "pib_municipios.head()"
      ]
    },
    {
      "cell_type": "code",
      "execution_count": null,
      "metadata": {
        "colab": {
          "background_save": true
        },
        "id": "pqPYZn6_SpMk"
      },
      "outputs": [],
      "source": [
        "mapa2 = geopandas.read_file(\"/content/SC_MUNICIPIOS_2023/SC_Municipios_2023.shp\")\n",
        "\n",
        "# Normalizar os nomes dos municípios\n",
        "dist_pop[\"nm_mun\"] = dist_pop[\"nm_mun\"].str.upper()\n",
        "mapa2[\"NM_MUNICIPIO\"] = mapa2[\"NM_MUN\"].str.upper()\n",
        "\n",
        "# Merge dos dados de população com o mapa\n",
        "mapa_pop = mapa2.merge(dist_pop, left_on=\"NM_MUNICIPIO\", right_on=\"nm_mun\", how=\"left\")\n",
        "\n",
        "# Preencher valores nulos com 0\n",
        "mapa_pop[\"tot_pop\"] = mapa_pop[\"tot_pop\"].fillna(0)\n",
        "\n",
        "mapa_pop.plot(column=\"tot_pop\", cmap=\"OrRd\", legend=True)\n",
        "plt.title(\"População por Município - SC\")\n",
        "plt.show()"
      ]
    },
    {
      "cell_type": "code",
      "execution_count": null,
      "metadata": {
        "colab": {
          "background_save": true
        },
        "id": "cspNziefSs7L"
      },
      "outputs": [],
      "source": [
        "mapa_pib = geopandas.read_file(\"/content/SC_MUNICIPIOS_2023/SC_Municipios_2023.shp\")\n",
        "\n",
        "# Normalizar os nomes dos municípios\n",
        "pib_municipios[\"nm_mun\"] = pib_municipios[\"nm_mun\"].str.upper()\n",
        "mapa_pib[\"NM_MUNICIPIO\"] = mapa_pib[\"NM_MUN\"].str.upper()\n",
        "\n",
        "# Merge dos dados do PIB com o mapa\n",
        "mapa_pib = mapa_pib.merge(pib_municipios, left_on=\"NM_MUNICIPIO\", right_on=\"nm_mun\", how=\"left\")\n",
        "\n",
        "# Preencher valores nulos com 0\n",
        "mapa_pib[\"pib\"] = mapa_pib[\"pib\"].fillna(0)\n",
        "\n",
        "# Plotar o mapa com a coluna do PIB\n",
        "mapa_pib.plot(column=\"pib\", cmap=\"Greens\", legend=True)\n",
        "plt.title(\"PIB por Município - SC\")\n",
        "plt.show()"
      ]
    },
    {
      "cell_type": "markdown",
      "metadata": {},
      "source": [
        "## Dados transferências municipais do estado de SC\n",
        "\n",
        "Fonte dos dados: https://dados.sc.gov.br/dataset/transferencias"
      ]
    },
    {
      "cell_type": "code",
      "execution_count": 3,
      "metadata": {},
      "outputs": [
        {
          "data": {
            "text/html": [
              "<div>\n",
              "<style scoped>\n",
              "    .dataframe tbody tr th:only-of-type {\n",
              "        vertical-align: middle;\n",
              "    }\n",
              "\n",
              "    .dataframe tbody tr th {\n",
              "        vertical-align: top;\n",
              "    }\n",
              "\n",
              "    .dataframe thead th {\n",
              "        text-align: right;\n",
              "    }\n",
              "</style>\n",
              "<table border=\"1\" class=\"dataframe\">\n",
              "  <thead>\n",
              "    <tr style=\"text-align: right;\">\n",
              "      <th></th>\n",
              "      <th>nuanoexercicio</th>\n",
              "      <th>nmmunicipiocredor</th>\n",
              "      <th>cdunidadegestora</th>\n",
              "      <th>nmunidadegestora</th>\n",
              "      <th>cdcredor</th>\n",
              "      <th>nmcredor</th>\n",
              "      <th>nuidentificacao</th>\n",
              "      <th>cdtipoidentificacao</th>\n",
              "      <th>cdfuncao</th>\n",
              "      <th>nmfuncao</th>\n",
              "      <th>...</th>\n",
              "      <th>deobjeto</th>\n",
              "      <th>vlglobal</th>\n",
              "      <th>cdmodalidadeaplicacao</th>\n",
              "      <th>vlrepasse</th>\n",
              "      <th>vlcontrapartida</th>\n",
              "      <th>nucpfresponsavelconcedente</th>\n",
              "      <th>nmresponsavelconcedente</th>\n",
              "      <th>dtcelebracao</th>\n",
              "      <th>nupreparacaopagamento</th>\n",
              "      <th>dtlancamentoliquidacao</th>\n",
              "    </tr>\n",
              "  </thead>\n",
              "  <tbody>\n",
              "    <tr>\n",
              "      <th>0</th>\n",
              "      <td>2022</td>\n",
              "      <td>VARGEAO</td>\n",
              "      <td>530001</td>\n",
              "      <td>Secretaria de Estado da Infraestrutura e Mobil...</td>\n",
              "      <td>5896</td>\n",
              "      <td>MUNICIPIO DE VARGEAO</td>\n",
              "      <td>83009928000164</td>\n",
              "      <td>1</td>\n",
              "      <td>26</td>\n",
              "      <td>Transporte</td>\n",
              "      <td>...</td>\n",
              "      <td>NaN</td>\n",
              "      <td>NaN</td>\n",
              "      <td>40</td>\n",
              "      <td>0</td>\n",
              "      <td>0</td>\n",
              "      <td>NaN</td>\n",
              "      <td>NaN</td>\n",
              "      <td>NaN</td>\n",
              "      <td>NaN</td>\n",
              "      <td>2022-03-08 00:00:00</td>\n",
              "    </tr>\n",
              "    <tr>\n",
              "      <th>1</th>\n",
              "      <td>2022</td>\n",
              "      <td>CACADOR</td>\n",
              "      <td>480091</td>\n",
              "      <td>Fundo Estadual de Saúde</td>\n",
              "      <td>227634</td>\n",
              "      <td>FUNDO MUNICIPAL DE SAUDE DE CACADOR</td>\n",
              "      <td>11583495000145</td>\n",
              "      <td>1</td>\n",
              "      <td>10</td>\n",
              "      <td>Saúde</td>\n",
              "      <td>...</td>\n",
              "      <td>NaN</td>\n",
              "      <td>NaN</td>\n",
              "      <td>41</td>\n",
              "      <td>0</td>\n",
              "      <td>0</td>\n",
              "      <td>NaN</td>\n",
              "      <td>NaN</td>\n",
              "      <td>NaN</td>\n",
              "      <td>2022PP022908</td>\n",
              "      <td>2022-03-15 00:00:00</td>\n",
              "    </tr>\n",
              "    <tr>\n",
              "      <th>2</th>\n",
              "      <td>2022</td>\n",
              "      <td>CHAPECO</td>\n",
              "      <td>480091</td>\n",
              "      <td>Fundo Estadual de Saúde</td>\n",
              "      <td>118794</td>\n",
              "      <td>FUNDO MUNICIPAL DE SAUDE DE CHAPECO</td>\n",
              "      <td>80636475000108</td>\n",
              "      <td>1</td>\n",
              "      <td>10</td>\n",
              "      <td>Saúde</td>\n",
              "      <td>...</td>\n",
              "      <td>NaN</td>\n",
              "      <td>NaN</td>\n",
              "      <td>41</td>\n",
              "      <td>0</td>\n",
              "      <td>0</td>\n",
              "      <td>NaN</td>\n",
              "      <td>NaN</td>\n",
              "      <td>NaN</td>\n",
              "      <td>2022PP022910</td>\n",
              "      <td>2022-03-15 00:00:00</td>\n",
              "    </tr>\n",
              "    <tr>\n",
              "      <th>3</th>\n",
              "      <td>2022</td>\n",
              "      <td>ITUPORANGA</td>\n",
              "      <td>480091</td>\n",
              "      <td>Fundo Estadual de Saúde</td>\n",
              "      <td>200338</td>\n",
              "      <td>FUNDO MUNICIPAL DE SAUDE DE ITUPORANGA</td>\n",
              "      <td>11407443000118</td>\n",
              "      <td>1</td>\n",
              "      <td>10</td>\n",
              "      <td>Saúde</td>\n",
              "      <td>...</td>\n",
              "      <td>NaN</td>\n",
              "      <td>NaN</td>\n",
              "      <td>41</td>\n",
              "      <td>0</td>\n",
              "      <td>0</td>\n",
              "      <td>NaN</td>\n",
              "      <td>NaN</td>\n",
              "      <td>NaN</td>\n",
              "      <td>NaN</td>\n",
              "      <td>2022-03-15 00:00:00</td>\n",
              "    </tr>\n",
              "    <tr>\n",
              "      <th>4</th>\n",
              "      <td>2022</td>\n",
              "      <td>SANTIAGO DO SUL</td>\n",
              "      <td>450001</td>\n",
              "      <td>Secretaria de Estado da Educação</td>\n",
              "      <td>91511</td>\n",
              "      <td>APP DA ESCOLA DE EDUCACAO BASICA SAO TIAGO</td>\n",
              "      <td>83697334000193</td>\n",
              "      <td>1</td>\n",
              "      <td>12</td>\n",
              "      <td>Educação</td>\n",
              "      <td>...</td>\n",
              "      <td>NaN</td>\n",
              "      <td>NaN</td>\n",
              "      <td>50</td>\n",
              "      <td>0</td>\n",
              "      <td>0</td>\n",
              "      <td>NaN</td>\n",
              "      <td>NaN</td>\n",
              "      <td>NaN</td>\n",
              "      <td>2022PP003678</td>\n",
              "      <td>2022-01-27 00:00:00</td>\n",
              "    </tr>\n",
              "  </tbody>\n",
              "</table>\n",
              "<p>5 rows × 48 columns</p>\n",
              "</div>"
            ],
            "text/plain": [
              "   nuanoexercicio nmmunicipiocredor  cdunidadegestora  \\\n",
              "0            2022           VARGEAO            530001   \n",
              "1            2022           CACADOR            480091   \n",
              "2            2022           CHAPECO            480091   \n",
              "3            2022        ITUPORANGA            480091   \n",
              "4            2022   SANTIAGO DO SUL            450001   \n",
              "\n",
              "                                    nmunidadegestora  cdcredor  \\\n",
              "0  Secretaria de Estado da Infraestrutura e Mobil...      5896   \n",
              "1                            Fundo Estadual de Saúde    227634   \n",
              "2                            Fundo Estadual de Saúde    118794   \n",
              "3                            Fundo Estadual de Saúde    200338   \n",
              "4                   Secretaria de Estado da Educação     91511   \n",
              "\n",
              "                                     nmcredor  nuidentificacao  \\\n",
              "0                        MUNICIPIO DE VARGEAO   83009928000164   \n",
              "1         FUNDO MUNICIPAL DE SAUDE DE CACADOR   11583495000145   \n",
              "2         FUNDO MUNICIPAL DE SAUDE DE CHAPECO   80636475000108   \n",
              "3      FUNDO MUNICIPAL DE SAUDE DE ITUPORANGA   11407443000118   \n",
              "4  APP DA ESCOLA DE EDUCACAO BASICA SAO TIAGO   83697334000193   \n",
              "\n",
              "   cdtipoidentificacao  cdfuncao    nmfuncao  ...  deobjeto vlglobal  \\\n",
              "0                    1        26  Transporte  ...       NaN      NaN   \n",
              "1                    1        10       Saúde  ...       NaN      NaN   \n",
              "2                    1        10       Saúde  ...       NaN      NaN   \n",
              "3                    1        10       Saúde  ...       NaN      NaN   \n",
              "4                    1        12    Educação  ...       NaN      NaN   \n",
              "\n",
              "   cdmodalidadeaplicacao vlrepasse  vlcontrapartida  \\\n",
              "0                     40         0                0   \n",
              "1                     41         0                0   \n",
              "2                     41         0                0   \n",
              "3                     41         0                0   \n",
              "4                     50         0                0   \n",
              "\n",
              "  nucpfresponsavelconcedente  nmresponsavelconcedente dtcelebracao  \\\n",
              "0                        NaN                      NaN          NaN   \n",
              "1                        NaN                      NaN          NaN   \n",
              "2                        NaN                      NaN          NaN   \n",
              "3                        NaN                      NaN          NaN   \n",
              "4                        NaN                      NaN          NaN   \n",
              "\n",
              "  nupreparacaopagamento dtlancamentoliquidacao  \n",
              "0                   NaN    2022-03-08 00:00:00  \n",
              "1          2022PP022908    2022-03-15 00:00:00  \n",
              "2          2022PP022910    2022-03-15 00:00:00  \n",
              "3                   NaN    2022-03-15 00:00:00  \n",
              "4          2022PP003678    2022-01-27 00:00:00  \n",
              "\n",
              "[5 rows x 48 columns]"
            ]
          },
          "execution_count": 3,
          "metadata": {},
          "output_type": "execute_result"
        }
      ],
      "source": [
        "raw_data = pd.read_csv(\"content/transferencias-municipais.csv\", delimiter=';', encoding='ISO-8859-1')\n",
        "\n",
        "raw_data.head()"
      ]
    },
    {
      "cell_type": "code",
      "execution_count": 4,
      "metadata": {},
      "outputs": [
        {
          "ename": "NameError",
          "evalue": "name 'df_municipios_geo' is not defined",
          "output_type": "error",
          "traceback": [
            "\u001b[1;31m---------------------------------------------------------------------------\u001b[0m",
            "\u001b[1;31mNameError\u001b[0m                                 Traceback (most recent call last)",
            "Cell \u001b[1;32mIn[4], line 23\u001b[0m\n\u001b[0;32m     19\u001b[0m     \u001b[38;5;28;01mreturn\u001b[39;00m text\n\u001b[0;32m     21\u001b[0m raw_data[\u001b[38;5;124m'\u001b[39m\u001b[38;5;124mnmmunicipiocredor\u001b[39m\u001b[38;5;124m'\u001b[39m] \u001b[38;5;241m=\u001b[39m raw_data[\u001b[38;5;124m'\u001b[39m\u001b[38;5;124mnmmunicipiocredor\u001b[39m\u001b[38;5;124m'\u001b[39m]\u001b[38;5;241m.\u001b[39mapply(clean_text)\n\u001b[1;32m---> 23\u001b[0m municipios_sc \u001b[38;5;241m=\u001b[39m \u001b[43mdf_municipios_geo\u001b[49m[\u001b[38;5;124m'\u001b[39m\u001b[38;5;124mNM_MUN\u001b[39m\u001b[38;5;124m'\u001b[39m]\u001b[38;5;241m.\u001b[39mapply(clean_text)\u001b[38;5;241m.\u001b[39munique()\n\u001b[0;32m     25\u001b[0m \u001b[38;5;66;03m# Filtrar apenas municípios de SC com base em df_municipios_geo\u001b[39;00m\n\u001b[0;32m     26\u001b[0m raw_data \u001b[38;5;241m=\u001b[39m raw_data[raw_data[\u001b[38;5;124m'\u001b[39m\u001b[38;5;124mnmmunicipiocredor\u001b[39m\u001b[38;5;124m'\u001b[39m]\u001b[38;5;241m.\u001b[39misin(municipios_sc)]\n",
            "\u001b[1;31mNameError\u001b[0m: name 'df_municipios_geo' is not defined"
          ]
        }
      ],
      "source": [
        "import re\n",
        "\n",
        "# Limpeza e correção de caracteres corrompidos\n",
        "raw_data.columns = [col.strip().replace('Ã', 'A').replace('�', '') for col in raw_data.columns]\n",
        "raw_data['nmmunicipiocredor'] = raw_data['nmmunicipiocredor'].str.replace('�', 'A')\n",
        "raw_data['nmfuncao'] = raw_data['nmfuncao'].str.replace('�', 'A')\n",
        "raw_data['nmsubfuncao'] = raw_data['nmsubfuncao'].str.replace('�', 'A')\n",
        "\n",
        "def clean_text(text):\n",
        "    text = text.upper()  \n",
        "    text = re.sub(r'[Ã]', 'A', text)\n",
        "    text = re.sub(r'[ÁÀÂÃ]', 'A', text)\n",
        "    text = re.sub(r'[ÉÈÊ]', 'E', text)\n",
        "    text = re.sub(r'[ÍÌÎ]', 'I', text)\n",
        "    text = re.sub(r'[ÓÒÔÕ]', 'O', text)\n",
        "    text = re.sub(r'[ÚÙÛ]', 'U', text)\n",
        "    text = re.sub(r'[Ç]', 'C', text)\n",
        "    text = re.sub(r'[^A-Z\\s]', '', text)  \n",
        "    return text\n",
        "\n",
        "raw_data['nmmunicipiocredor'] = raw_data['nmmunicipiocredor'].apply(clean_text)\n",
        "\n",
        "municipios_sc = df_municipios_geo['NM_MUN'].apply(clean_text).unique()\n",
        "\n",
        "# Filtrar apenas municípios de SC com base em df_municipios_geo\n",
        "raw_data = raw_data[raw_data['nmmunicipiocredor'].isin(municipios_sc)]\n",
        "\n",
        "# Converter colunas de valor para numérico\n",
        "raw_data['vlempenhado'] = pd.to_numeric(raw_data['vlempenhado'], errors='coerce')\n",
        "raw_data['vlliquidado'] = pd.to_numeric(raw_data['vlliquidado'], errors='coerce')\n",
        "raw_data['vlpagoorcamentario'] = pd.to_numeric(raw_data['vlpagoorcamentario'], errors='coerce')\n",
        "\n",
        "# Remover linhas com valores nulos em \"vlempenhado\"\n",
        "raw_data = raw_data.dropna(subset=['vlempenhado'])\n",
        "\n",
        "# Agregar os valores por município e função\n",
        "dados_transf = raw_data.groupby(['nmmunicipiocredor', 'nmfuncao'])[['vlempenhado', 'vlliquidado', 'vlpagoorcamentario']].sum().reset_index()\n",
        "\n",
        "# Visualização: Top 10 municípios por valor total (emp., liqu. ou pago)\n",
        "plt.figure(figsize=(12, 6))\n",
        "dados_transf['valor_total'] = dados_transf['vlempenhado'] + dados_transf['vlliquidado'] + dados_transf['vlpagoorcamentario']\n",
        "top_municipios = dados_transf.groupby('nmmunicipiocredor')['valor_total'].sum().nlargest(10)\n",
        "\n",
        "top_municipios.plot(kind='bar', color='royalblue')\n",
        "plt.title('Top 10 Municípios Catarinenses por Valor Total (2022)')\n",
        "plt.xlabel('Município')\n",
        "plt.ylabel('Valor Total (R$)')\n",
        "plt.xticks(rotation=45, ha='right')\n",
        "plt.tight_layout()\n",
        "plt.show()"
      ]
    },
    {
      "cell_type": "code",
      "execution_count": null,
      "metadata": {},
      "outputs": [],
      "source": [
        "# Carregar o arquivo .shp do mapa\n",
        "mapa_transf = geopandas.read_file(\"content/SC_MUNICIPIOS_2023/SC_Municipios_2023.shp\")\n",
        "\n",
        "# Normalizar os nomes dos municípios\n",
        "mapa_transf[\"NM_MUNICIPIO\"] = mapa_transf[\"NM_MUN\"].apply(clean_text)\n",
        "\n",
        "# Mesclar os dados de transferência agregados com os dados geográficos\n",
        "gdf_transferencias = mapa_transf.merge(dados_transf, left_on='NM_MUN', right_on='nmmunicipiocredor', how='left')\n",
        "\n",
        "dados_transf.head(20)"
      ]
    }
  ],
  "metadata": {
    "colab": {
      "provenance": []
    },
    "kernelspec": {
      "display_name": "Python 3",
      "name": "python3"
    },
    "language_info": {
      "codemirror_mode": {
        "name": "ipython",
        "version": 3
      },
      "file_extension": ".py",
      "mimetype": "text/x-python",
      "name": "python",
      "nbconvert_exporter": "python",
      "pygments_lexer": "ipython3",
      "version": "3.13.1"
    }
  },
  "nbformat": 4,
  "nbformat_minor": 0
}
