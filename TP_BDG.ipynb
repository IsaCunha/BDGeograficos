{
  "cells": [
    {
      "cell_type": "code",
      "execution_count": 3,
      "metadata": {
        "id": "FtkWOOyCuJzQ"
      },
      "outputs": [],
      "source": [
        "import pandas as pd\n",
        "import geopandas\n",
        "import matplotlib.pyplot as plt"
      ]
    },
    {
      "cell_type": "markdown",
      "metadata": {
        "id": "GlHolKYF__8x"
      },
      "source": [
        "## Dados Geográficos dos Municípios"
      ]
    },
    {
      "cell_type": "markdown",
      "metadata": {
        "id": "b_Nub-3LDWvc"
      },
      "source": [
        "Fonte: https://www.ibge.gov.br/geociencias/organizacao-do-territorio/malhas-territoriais/15774-malhas.html"
      ]
    },
    {
      "cell_type": "code",
      "execution_count": 4,
      "metadata": {
        "colab": {
          "base_uri": "https://localhost:8080/",
          "height": 478
        },
        "id": "uxEGVSUAzHGR",
        "outputId": "d3f7783e-9dff-4821-9d6c-b8dd6bfcb610"
      },
      "outputs": [
        {
          "output_type": "error",
          "ename": "DataSourceError",
          "evalue": "/content/SC_MUNICIPIOS_2023/SC_Municipios_2023.dbf: No such file or directory",
          "traceback": [
            "\u001b[0;31m---------------------------------------------------------------------------\u001b[0m",
            "\u001b[0;31mDataSourceError\u001b[0m                           Traceback (most recent call last)",
            "\u001b[0;32m<ipython-input-4-71fa0c831cc5>\u001b[0m in \u001b[0;36m<cell line: 2>\u001b[0;34m()\u001b[0m\n\u001b[1;32m      1\u001b[0m \u001b[0;31m# Dados geograficos dos municipios\u001b[0m\u001b[0;34m\u001b[0m\u001b[0;34m\u001b[0m\u001b[0m\n\u001b[0;32m----> 2\u001b[0;31m \u001b[0mdf_municipios_geo\u001b[0m \u001b[0;34m=\u001b[0m \u001b[0mgeopandas\u001b[0m\u001b[0;34m.\u001b[0m\u001b[0mread_file\u001b[0m\u001b[0;34m(\u001b[0m\u001b[0;34m\"/content/SC_MUNICIPIOS_2023/SC_Municipios_2023.dbf\"\u001b[0m\u001b[0;34m)\u001b[0m\u001b[0;34m\u001b[0m\u001b[0;34m\u001b[0m\u001b[0m\n\u001b[0m",
            "\u001b[0;32m/usr/local/lib/python3.10/dist-packages/geopandas/io/file.py\u001b[0m in \u001b[0;36m_read_file\u001b[0;34m(filename, bbox, mask, columns, rows, engine, **kwargs)\u001b[0m\n\u001b[1;32m    292\u001b[0m \u001b[0;34m\u001b[0m\u001b[0m\n\u001b[1;32m    293\u001b[0m     \u001b[0;32mif\u001b[0m \u001b[0mengine\u001b[0m \u001b[0;34m==\u001b[0m \u001b[0;34m\"pyogrio\"\u001b[0m\u001b[0;34m:\u001b[0m\u001b[0;34m\u001b[0m\u001b[0;34m\u001b[0m\u001b[0m\n\u001b[0;32m--> 294\u001b[0;31m         return _read_file_pyogrio(\n\u001b[0m\u001b[1;32m    295\u001b[0m             \u001b[0mfilename\u001b[0m\u001b[0;34m,\u001b[0m \u001b[0mbbox\u001b[0m\u001b[0;34m=\u001b[0m\u001b[0mbbox\u001b[0m\u001b[0;34m,\u001b[0m \u001b[0mmask\u001b[0m\u001b[0;34m=\u001b[0m\u001b[0mmask\u001b[0m\u001b[0;34m,\u001b[0m \u001b[0mcolumns\u001b[0m\u001b[0;34m=\u001b[0m\u001b[0mcolumns\u001b[0m\u001b[0;34m,\u001b[0m \u001b[0mrows\u001b[0m\u001b[0;34m=\u001b[0m\u001b[0mrows\u001b[0m\u001b[0;34m,\u001b[0m \u001b[0;34m**\u001b[0m\u001b[0mkwargs\u001b[0m\u001b[0;34m\u001b[0m\u001b[0;34m\u001b[0m\u001b[0m\n\u001b[1;32m    296\u001b[0m         )\n",
            "\u001b[0;32m/usr/local/lib/python3.10/dist-packages/geopandas/io/file.py\u001b[0m in \u001b[0;36m_read_file_pyogrio\u001b[0;34m(path_or_bytes, bbox, mask, rows, **kwargs)\u001b[0m\n\u001b[1;32m    545\u001b[0m         \u001b[0mkwargs\u001b[0m\u001b[0;34m[\u001b[0m\u001b[0;34m\"columns\"\u001b[0m\u001b[0;34m]\u001b[0m \u001b[0;34m=\u001b[0m \u001b[0mkwargs\u001b[0m\u001b[0;34m.\u001b[0m\u001b[0mpop\u001b[0m\u001b[0;34m(\u001b[0m\u001b[0;34m\"include_fields\"\u001b[0m\u001b[0;34m)\u001b[0m\u001b[0;34m\u001b[0m\u001b[0;34m\u001b[0m\u001b[0m\n\u001b[1;32m    546\u001b[0m \u001b[0;34m\u001b[0m\u001b[0m\n\u001b[0;32m--> 547\u001b[0;31m     \u001b[0;32mreturn\u001b[0m \u001b[0mpyogrio\u001b[0m\u001b[0;34m.\u001b[0m\u001b[0mread_dataframe\u001b[0m\u001b[0;34m(\u001b[0m\u001b[0mpath_or_bytes\u001b[0m\u001b[0;34m,\u001b[0m \u001b[0mbbox\u001b[0m\u001b[0;34m=\u001b[0m\u001b[0mbbox\u001b[0m\u001b[0;34m,\u001b[0m \u001b[0;34m**\u001b[0m\u001b[0mkwargs\u001b[0m\u001b[0;34m)\u001b[0m\u001b[0;34m\u001b[0m\u001b[0;34m\u001b[0m\u001b[0m\n\u001b[0m\u001b[1;32m    548\u001b[0m \u001b[0;34m\u001b[0m\u001b[0m\n\u001b[1;32m    549\u001b[0m \u001b[0;34m\u001b[0m\u001b[0m\n",
            "\u001b[0;32m/usr/local/lib/python3.10/dist-packages/pyogrio/geopandas.py\u001b[0m in \u001b[0;36mread_dataframe\u001b[0;34m(path_or_buffer, layer, encoding, columns, read_geometry, force_2d, skip_features, max_features, where, bbox, mask, fids, sql, sql_dialect, fid_as_index, use_arrow, on_invalid, arrow_to_pandas_kwargs, **kwargs)\u001b[0m\n\u001b[1;32m    263\u001b[0m         \u001b[0;31m# as numpy does not directly support timezones.\u001b[0m\u001b[0;34m\u001b[0m\u001b[0;34m\u001b[0m\u001b[0m\n\u001b[1;32m    264\u001b[0m         \u001b[0mkwargs\u001b[0m\u001b[0;34m[\u001b[0m\u001b[0;34m\"datetime_as_string\"\u001b[0m\u001b[0;34m]\u001b[0m \u001b[0;34m=\u001b[0m \u001b[0;32mTrue\u001b[0m\u001b[0;34m\u001b[0m\u001b[0;34m\u001b[0m\u001b[0m\n\u001b[0;32m--> 265\u001b[0;31m     result = read_func(\n\u001b[0m\u001b[1;32m    266\u001b[0m         \u001b[0mpath_or_buffer\u001b[0m\u001b[0;34m,\u001b[0m\u001b[0;34m\u001b[0m\u001b[0;34m\u001b[0m\u001b[0m\n\u001b[1;32m    267\u001b[0m         \u001b[0mlayer\u001b[0m\u001b[0;34m=\u001b[0m\u001b[0mlayer\u001b[0m\u001b[0;34m,\u001b[0m\u001b[0;34m\u001b[0m\u001b[0;34m\u001b[0m\u001b[0m\n",
            "\u001b[0;32m/usr/local/lib/python3.10/dist-packages/pyogrio/raw.py\u001b[0m in \u001b[0;36mread\u001b[0;34m(path_or_buffer, layer, encoding, columns, read_geometry, force_2d, skip_features, max_features, where, bbox, mask, fids, sql, sql_dialect, return_fids, datetime_as_string, **kwargs)\u001b[0m\n\u001b[1;32m    196\u001b[0m     \u001b[0mdataset_kwargs\u001b[0m \u001b[0;34m=\u001b[0m \u001b[0m_preprocess_options_key_value\u001b[0m\u001b[0;34m(\u001b[0m\u001b[0mkwargs\u001b[0m\u001b[0;34m)\u001b[0m \u001b[0;32mif\u001b[0m \u001b[0mkwargs\u001b[0m \u001b[0;32melse\u001b[0m \u001b[0;34m{\u001b[0m\u001b[0;34m}\u001b[0m\u001b[0;34m\u001b[0m\u001b[0;34m\u001b[0m\u001b[0m\n\u001b[1;32m    197\u001b[0m \u001b[0;34m\u001b[0m\u001b[0m\n\u001b[0;32m--> 198\u001b[0;31m     return ogr_read(\n\u001b[0m\u001b[1;32m    199\u001b[0m         \u001b[0mget_vsi_path_or_buffer\u001b[0m\u001b[0;34m(\u001b[0m\u001b[0mpath_or_buffer\u001b[0m\u001b[0;34m)\u001b[0m\u001b[0;34m,\u001b[0m\u001b[0;34m\u001b[0m\u001b[0;34m\u001b[0m\u001b[0m\n\u001b[1;32m    200\u001b[0m         \u001b[0mlayer\u001b[0m\u001b[0;34m=\u001b[0m\u001b[0mlayer\u001b[0m\u001b[0;34m,\u001b[0m\u001b[0;34m\u001b[0m\u001b[0;34m\u001b[0m\u001b[0m\n",
            "\u001b[0;32mpyogrio/_io.pyx\u001b[0m in \u001b[0;36mpyogrio._io.ogr_read\u001b[0;34m()\u001b[0m\n",
            "\u001b[0;32mpyogrio/_io.pyx\u001b[0m in \u001b[0;36mpyogrio._io.ogr_open\u001b[0;34m()\u001b[0m\n",
            "\u001b[0;31mDataSourceError\u001b[0m: /content/SC_MUNICIPIOS_2023/SC_Municipios_2023.dbf: No such file or directory"
          ]
        }
      ],
      "source": [
        "# Dados geograficos dos municipios\n",
        "df_municipios_geo = geopandas.read_file(\"/content/SC_MUNICIPIOS_2023/SC_Municipios_2023.dbf\")"
      ]
    },
    {
      "cell_type": "code",
      "execution_count": 2,
      "metadata": {
        "colab": {
          "base_uri": "https://localhost:8080/",
          "height": 141
        },
        "id": "-f5f85Su-A-M",
        "outputId": "aa88feca-6c09-41ac-f174-fa269f91e857"
      },
      "outputs": [
        {
          "output_type": "error",
          "ename": "NameError",
          "evalue": "name 'df_municipios_geo' is not defined",
          "traceback": [
            "\u001b[0;31m---------------------------------------------------------------------------\u001b[0m",
            "\u001b[0;31mNameError\u001b[0m                                 Traceback (most recent call last)",
            "\u001b[0;32m<ipython-input-2-1868647ff2af>\u001b[0m in \u001b[0;36m<cell line: 1>\u001b[0;34m()\u001b[0m\n\u001b[0;32m----> 1\u001b[0;31m \u001b[0mdf_municipios_geo\u001b[0m\u001b[0;34m.\u001b[0m\u001b[0minfo\u001b[0m\u001b[0;34m(\u001b[0m\u001b[0;34m)\u001b[0m\u001b[0;34m\u001b[0m\u001b[0;34m\u001b[0m\u001b[0m\n\u001b[0m",
            "\u001b[0;31mNameError\u001b[0m: name 'df_municipios_geo' is not defined"
          ]
        }
      ],
      "source": [
        "df_municipios_geo.info()\n"
      ]
    },
    {
      "cell_type": "code",
      "execution_count": null,
      "metadata": {
        "colab": {
          "background_save": true
        },
        "id": "1gfVsLCCAG-r"
      },
      "outputs": [],
      "source": [
        "df_municipios_geo.head()"
      ]
    },
    {
      "cell_type": "code",
      "execution_count": null,
      "metadata": {
        "colab": {
          "background_save": true
        },
        "id": "j7HYuccV_ohg"
      },
      "outputs": [],
      "source": [
        "mapa = geopandas.read_file(\"/content/SC_MUNICIPIOS_2023/SC_Municipios_2023.shp\")"
      ]
    },
    {
      "cell_type": "code",
      "execution_count": null,
      "metadata": {
        "colab": {
          "background_save": true
        },
        "id": "nbmDjLfC_uDw"
      },
      "outputs": [],
      "source": [
        "mapa.plot()\n",
        "plt.show()"
      ]
    },
    {
      "cell_type": "markdown",
      "metadata": {
        "id": "tLlhsyf9AKA3"
      },
      "source": [
        "## Dados da votação - TSE"
      ]
    },
    {
      "cell_type": "markdown",
      "metadata": {
        "id": "uUudJp2UDKiu"
      },
      "source": [
        "Fonte:\n",
        "https://dadosabertos.tse.jus.br/dataset/resultados-2022/resource/ff3e660a-6387-4632-97f7-9b60a477751a"
      ]
    },
    {
      "cell_type": "code",
      "execution_count": null,
      "metadata": {
        "colab": {
          "background_save": true
        },
        "id": "3hSVsjNN5a2y"
      },
      "outputs": [],
      "source": [
        "# Dados dos votos\n",
        "df_votos = pd.read_csv(\"/content/votacao_secao_2022_SC.csv\", encoding=\"latin1\", delimiter=\";\")"
      ]
    },
    {
      "cell_type": "code",
      "execution_count": null,
      "metadata": {
        "colab": {
          "background_save": true
        },
        "id": "SUWpkxgw5-Sv"
      },
      "outputs": [],
      "source": [
        "df_votos.info()"
      ]
    },
    {
      "cell_type": "code",
      "execution_count": null,
      "metadata": {
        "colab": {
          "background_save": true
        },
        "id": "w73CvQ3mAP0t"
      },
      "outputs": [],
      "source": [
        "df_votos.head()"
      ]
    },
    {
      "cell_type": "code",
      "execution_count": null,
      "metadata": {
        "colab": {
          "background_save": true
        },
        "id": "UDnj2nx6SS90"
      },
      "outputs": [],
      "source": [
        "# Filtrar apenas votos para deputado federal\n",
        "df_deputado_federal = df_votos[df_votos[\"DS_CARGO\"] == \"DEPUTADO FEDERAL\"]\n",
        "\n",
        "# Agregar os votos por município\n",
        "aggregated = df_deputado_federal.groupby([\"NM_MUNICIPIO\"], as_index=False)[\"QT_VOTOS\"].sum()\n",
        "\n",
        "# Normalizar os nomes dos municípios\n",
        "mapa[\"NM_MUNICIPIO\"] = mapa[\"NM_MUN\"].str.upper()\n",
        "aggregated[\"NM_MUNICIPIO\"] = aggregated[\"NM_MUNICIPIO\"].str.upper()\n",
        "\n",
        "result = mapa.merge(aggregated, on=\"NM_MUNICIPIO\", how=\"left\")\n",
        "\n",
        "# Foi necessário preencher os municípios sem votos com 0 para fazer a devida agregação\n",
        "result[\"QT_VOTOS\"] = result[\"QT_VOTOS\"].fillna(0)\n",
        "\n",
        "result.plot(column=\"QT_VOTOS\", cmap=\"Blues\", legend=True)\n",
        "plt.title(\"Votos para Deputado Federal por Município - SC\")\n",
        "plt.show()"
      ]
    },
    {
      "cell_type": "markdown",
      "metadata": {
        "id": "TnCsZOb2-loK"
      },
      "source": [
        "## Dados do censo"
      ]
    },
    {
      "cell_type": "markdown",
      "metadata": {
        "id": "GnSsY3fTEHCl"
      },
      "source": [
        "Fonte:"
      ]
    },
    {
      "cell_type": "code",
      "execution_count": null,
      "metadata": {
        "colab": {
          "background_save": true
        },
        "id": "zoday4ol6C5j"
      },
      "outputs": [],
      "source": [
        "# dados ja tratados\n",
        "dist_pop = pd.read_csv(\"/content/dados/distribuicao_populacao.csv\")"
      ]
    },
    {
      "cell_type": "code",
      "execution_count": null,
      "metadata": {
        "colab": {
          "background_save": true
        },
        "id": "RLf4eJ_z-Jf7"
      },
      "outputs": [],
      "source": [
        "dist_pop.head()"
      ]
    },
    {
      "cell_type": "code",
      "execution_count": null,
      "metadata": {
        "colab": {
          "background_save": true
        },
        "id": "Q9ncH422-Pi2"
      },
      "outputs": [],
      "source": [
        "pib_municipios = pd.read_csv(\"/content/dados/pib_municipios.csv\")"
      ]
    },
    {
      "cell_type": "code",
      "execution_count": null,
      "metadata": {
        "colab": {
          "background_save": true
        },
        "id": "clClVrKu-Tfd"
      },
      "outputs": [],
      "source": [
        "pib_municipios.head()"
      ]
    },
    {
      "cell_type": "code",
      "execution_count": null,
      "metadata": {
        "colab": {
          "background_save": true
        },
        "id": "pqPYZn6_SpMk"
      },
      "outputs": [],
      "source": [
        "mapa2 = geopandas.read_file(\"/content/SC_MUNICIPIOS_2023/SC_Municipios_2023.shp\")\n",
        "\n",
        "# Normalizar os nomes dos municípios\n",
        "dist_pop[\"nm_mun\"] = dist_pop[\"nm_mun\"].str.upper()\n",
        "mapa2[\"NM_MUNICIPIO\"] = mapa2[\"NM_MUN\"].str.upper()\n",
        "\n",
        "# Merge dos dados de população com o mapa\n",
        "mapa_pop = mapa2.merge(dist_pop, left_on=\"NM_MUNICIPIO\", right_on=\"nm_mun\", how=\"left\")\n",
        "\n",
        "# Preencher valores nulos com 0\n",
        "mapa_pop[\"tot_pop\"] = mapa_pop[\"tot_pop\"].fillna(0)\n",
        "\n",
        "mapa_pop.plot(column=\"tot_pop\", cmap=\"OrRd\", legend=True)\n",
        "plt.title(\"População por Município - SC\")\n",
        "plt.show()"
      ]
    },
    {
      "cell_type": "code",
      "execution_count": null,
      "metadata": {
        "colab": {
          "background_save": true
        },
        "id": "cspNziefSs7L"
      },
      "outputs": [],
      "source": [
        "# Carregar o arquivo .shp do mapa\n",
        "mapa_pib = geopandas.read_file(\"/content/SC_MUNICIPIOS_2023/SC_Municipios_2023.shp\")\n",
        "\n",
        "# Normalizar os nomes dos municípios\n",
        "pib_municipios[\"nm_mun\"] = pib_municipios[\"nm_mun\"].str.upper()\n",
        "mapa_pib[\"NM_MUNICIPIO\"] = mapa_pib[\"NM_MUN\"].str.upper()\n",
        "\n",
        "# Merge dos dados do PIB com o mapa\n",
        "mapa_pib = mapa_pib.merge(pib_municipios, left_on=\"NM_MUNICIPIO\", right_on=\"nm_mun\", how=\"left\")\n",
        "\n",
        "# Preencher valores nulos com 0\n",
        "mapa_pib[\"pib\"] = mapa_pib[\"pib\"].fillna(0)\n",
        "\n",
        "# Plotar o mapa com a coluna do PIB\n",
        "mapa_pib.plot(column=\"pib\", cmap=\"Greens\", legend=True)\n",
        "plt.title(\"PIB por Município - SC\")\n",
        "plt.show()"
      ]
    }
  ],
  "metadata": {
    "colab": {
      "provenance": []
    },
    "kernelspec": {
      "display_name": "Python 3",
      "name": "python3"
    },
    "language_info": {
      "name": "python"
    }
  },
  "nbformat": 4,
  "nbformat_minor": 0
}